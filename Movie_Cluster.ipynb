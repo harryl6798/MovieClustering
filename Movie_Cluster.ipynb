{
 "cells": [
  {
   "cell_type": "code",
   "execution_count": 17,
   "metadata": {},
   "outputs": [],
   "source": [
    "import numpy as np\n",
    "import pandas as pd\n",
    "import matplotlib.pyplot as plt\n",
    "import seaborn as sns\n",
    "import featuretools as ft\n"
   ]
  },
  {
   "cell_type": "code",
   "execution_count": null,
   "metadata": {},
   "outputs": [],
   "source": [
    "movies = pd.read_csv(\"./data/raw/movies.csv\")\n",
    "movies.head()"
   ]
  },
  {
   "cell_type": "code",
   "execution_count": null,
   "metadata": {},
   "outputs": [],
   "source": [
    "links = pd.read_csv(\"./data/raw/links.csv\")\n",
    "links.head()"
   ]
  },
  {
   "cell_type": "code",
   "execution_count": null,
   "metadata": {},
   "outputs": [],
   "source": [
    "ratings = pd.read_csv(\"./data/raw/ratings.csv\")\n",
    "ratings.head()"
   ]
  },
  {
   "cell_type": "code",
   "execution_count": null,
   "metadata": {},
   "outputs": [],
   "source": [
    "tags = pd.read_csv(\"./data/raw/tags.csv\")\n",
    "tags.head()"
   ]
  },
  {
   "cell_type": "markdown",
   "metadata": {},
   "source": [
    "Read in the data from the CSV file"
   ]
  },
  {
   "cell_type": "code",
   "execution_count": 18,
   "metadata": {},
   "outputs": [
    {
     "data": {
      "text/plain": [
       "<bound method NDFrame.head of         Dataline            Play  PlayerLinenumber ActSceneLine  \\\n",
       "0              1        Henry IV               NaN          NaN   \n",
       "1              2        Henry IV               NaN          NaN   \n",
       "2              3        Henry IV               NaN          NaN   \n",
       "3              4        Henry IV               1.0        1.1.1   \n",
       "4              5        Henry IV               1.0        1.1.2   \n",
       "...          ...             ...               ...          ...   \n",
       "111391    111392  A Winters Tale              38.0      5.3.180   \n",
       "111392    111393  A Winters Tale              38.0      5.3.181   \n",
       "111393    111394  A Winters Tale              38.0      5.3.182   \n",
       "111394    111395  A Winters Tale              38.0      5.3.183   \n",
       "111395    111396  A Winters Tale              38.0          NaN   \n",
       "\n",
       "               Player                                         PlayerLine  \n",
       "0                 NaN                                              ACT I  \n",
       "1                 NaN                       SCENE I. London. The palace.  \n",
       "2                 NaN  Enter KING HENRY, LORD JOHN OF LANCASTER, the ...  \n",
       "3       KING HENRY IV             So shaken as we are, so wan with care,  \n",
       "4       KING HENRY IV         Find we a time for frighted peace to pant,  \n",
       "...               ...                                                ...  \n",
       "111391        LEONTES         Lead us from hence, where we may leisurely  \n",
       "111392        LEONTES              Each one demand an answer to his part  \n",
       "111393        LEONTES     Perform'd in this wide gap of time since first  \n",
       "111394        LEONTES             We were dissever'd: hastily lead away.  \n",
       "111395        LEONTES                                             Exeunt  \n",
       "\n",
       "[111396 rows x 6 columns]>"
      ]
     },
     "execution_count": 18,
     "metadata": {},
     "output_type": "execute_result"
    }
   ],
   "source": [
    "shake = pd.read_csv(\"./data/raw/Shakespeare_data.csv\")\n",
    "shake.head"
   ]
  },
  {
   "cell_type": "markdown",
   "metadata": {},
   "source": [
    "Drop the useless Column of data"
   ]
  },
  {
   "cell_type": "code",
   "execution_count": 19,
   "metadata": {},
   "outputs": [],
   "source": [
    "df_shake = shake.drop(columns=\"Dataline\")\n",
    "df_shake['Player'].replace(np.nan, 'No Character', inplace = True)"
   ]
  },
  {
   "cell_type": "markdown",
   "metadata": {},
   "source": [
    "Gets list of unique players"
   ]
  },
  {
   "cell_type": "code",
   "execution_count": 20,
   "metadata": {},
   "outputs": [],
   "source": [
    "df_PlayerNumber = df_shake.groupby('Player').nunique()"
   ]
  },
  {
   "cell_type": "markdown",
   "metadata": {},
   "source": [
    "Get the list of times the player talks"
   ]
  },
  {
   "cell_type": "code",
   "execution_count": 21,
   "metadata": {},
   "outputs": [
    {
     "data": {
      "text/plain": [
       "<bound method NDFrame.head of GLOUCESTER          1920\n",
       "HAMLET              1582\n",
       "IAGO                1161\n",
       "FALSTAFF            1117\n",
       "KING HENRY V        1086\n",
       "                    ... \n",
       "Second Neighbour       1\n",
       "Second Patrician       1\n",
       "ARMADO                 1\n",
       "WORCESTER              1\n",
       "First Messenger        1\n",
       "Name: Player, Length: 934, dtype: int64>"
      ]
     },
     "execution_count": 21,
     "metadata": {},
     "output_type": "execute_result"
    }
   ],
   "source": [
    "val = shake['Player'].value_counts()\n",
    "val.head"
   ]
  },
  {
   "cell_type": "raw",
   "metadata": {},
   "source": [
    "Returns a Dataframe of the number of appearences"
   ]
  },
  {
   "cell_type": "code",
   "execution_count": 22,
   "metadata": {},
   "outputs": [
    {
     "data": {
      "text/plain": [
       "<bound method NDFrame.head of                Player  Number of Appearances\n",
       "0          GLOUCESTER                   1920\n",
       "1              HAMLET                   1582\n",
       "2                IAGO                   1161\n",
       "3            FALSTAFF                   1117\n",
       "4        KING HENRY V                   1086\n",
       "..                ...                    ...\n",
       "929  Second Neighbour                      1\n",
       "930  Second Patrician                      1\n",
       "931            ARMADO                      1\n",
       "932         WORCESTER                      1\n",
       "933   First Messenger                      1\n",
       "\n",
       "[934 rows x 2 columns]>"
      ]
     },
     "execution_count": 22,
     "metadata": {},
     "output_type": "execute_result"
    }
   ],
   "source": [
    "df = val.rename_axis('Player').reset_index(name='Number of Appearances')\n",
    "df.head"
   ]
  },
  {
   "cell_type": "code",
   "execution_count": 23,
   "metadata": {},
   "outputs": [
    {
     "data": {
      "text/plain": [
       "<bound method NDFrame.head of                                      PlayerLinenumber  ActSceneLine  \\\n",
       "Play               Player                                             \n",
       "A Comedy of Errors ADRIANA                        284           276   \n",
       "                   AEGEON                         150           147   \n",
       "                   AEMELIA                         75            73   \n",
       "                   ANGELO                          99            96   \n",
       "                   ANTIPHOLUS                       6             6   \n",
       "...                                               ...           ...   \n",
       "macbeth            Son                             24            20   \n",
       "                   Third Apparition                 6             5   \n",
       "                   Third Murderer                   8             8   \n",
       "                   Third Witch                     27            27   \n",
       "                   YOUNG SIWARD                     8             7   \n",
       "\n",
       "                                     PlayerLine  \n",
       "Play               Player                        \n",
       "A Comedy of Errors ADRIANA                  284  \n",
       "                   AEGEON                   150  \n",
       "                   AEMELIA                   75  \n",
       "                   ANGELO                    99  \n",
       "                   ANTIPHOLUS                 6  \n",
       "...                                         ...  \n",
       "macbeth            Son                       24  \n",
       "                   Third Apparition           6  \n",
       "                   Third Murderer             8  \n",
       "                   Third Witch               27  \n",
       "                   YOUNG SIWARD               8  \n",
       "\n",
       "[1328 rows x 3 columns]>"
      ]
     },
     "execution_count": 23,
     "metadata": {},
     "output_type": "execute_result"
    }
   ],
   "source": [
    "play_grouping = df_shake.groupby(['Play','Player' ]).count()\n",
    "play_grouping.head"
   ]
  },
  {
   "cell_type": "markdown",
   "metadata": {},
   "source": [
    "Imports for both the decision tree and the random forest implmentation"
   ]
  },
  {
   "cell_type": "code",
   "execution_count": 24,
   "metadata": {},
   "outputs": [],
   "source": [
    "from sklearn.tree import DecisionTreeClassifier\n",
    "from sklearn.ensemble import RandomForestClassifier\n",
    "from sklearn import preprocessing\n",
    "from sklearn.model_selection import train_test_split \n",
    "from sklearn import metrics "
   ]
  },
  {
   "cell_type": "markdown",
   "metadata": {},
   "source": [
    "So prior to being able to run the classification things, you need to make sure that the processor is able to take in the values. In this case it only takes floats so we need to turn all of our strings into floats by using the label encoder."
   ]
  },
  {
   "cell_type": "code",
   "execution_count": 25,
   "metadata": {},
   "outputs": [],
   "source": [
    "le = preprocessing.LabelEncoder()\n",
    "le.fit(df_shake['Player'])\n",
    "df_shake['Player'] = le.transform(df_shake['Player'])\n",
    "le.fit(df_shake['Play'])\n",
    "df_shake['Play'] = le.transform(df_shake['Play'])\n",
    "\n",
    "df_shake['ActSceneLine'] = df_shake['ActSceneLine'].astype(str)\n",
    "\n",
    "le.fit(df_shake['ActSceneLine'])\n",
    "df_shake['ActSceneLine'] = le.transform(df_shake['ActSceneLine'])"
   ]
  },
  {
   "cell_type": "markdown",
   "metadata": {},
   "source": [
    "This takes in the X and y classification that we will be using and splitting it into training and testing sets. We will be using Play and ActSceneLine to determine the player.\n",
    "\n"
   ]
  },
  {
   "cell_type": "code",
   "execution_count": 26,
   "metadata": {},
   "outputs": [],
   "source": [
    "X= df_shake[['Play', 'ActSceneLine']]\n",
    "y= df_shake['Player']\n",
    "X_train, X_test, y_train, y_test = train_test_split(X, y, test_size=0.2, random_state=1)"
   ]
  },
  {
   "cell_type": "markdown",
   "metadata": {},
   "source": [
    "Takes in the training and testing set to predict the outcome from our testing set. The accuracy we get returned averages around 60%. The decision tree is quick, but often leads to overfitting of the data."
   ]
  },
  {
   "cell_type": "code",
   "execution_count": 27,
   "metadata": {},
   "outputs": [
    {
     "name": "stdout",
     "output_type": "stream",
     "text": [
      "Accuracy: 0.6038599640933573\n"
     ]
    }
   ],
   "source": [
    "decision_tree = DecisionTreeClassifier()\n",
    "clf = decision_tree.fit(X_train, y_train)\n",
    "y_pred = clf.predict(X_test)\n",
    "print(\"Accuracy:\",metrics.accuracy_score(y_test, y_pred))"
   ]
  },
  {
   "cell_type": "markdown",
   "metadata": {},
   "source": [
    "Like the Decision tree the random forest classifcation takes in the training and testing set to predict the outcome from our testing set. The accuracy we get returned averages around 60%. The random forest classification is again very accurate and fast, but falls into the trap of scaling and the larger the number of trees the slower the classifcation, our dataset begins to show growing pains."
   ]
  },
  {
   "cell_type": "code",
   "execution_count": 12,
   "metadata": {},
   "outputs": [
    {
     "name": "stderr",
     "output_type": "stream",
     "text": [
      "c:\\python37\\lib\\site-packages\\sklearn\\ensemble\\forest.py:245: FutureWarning: The default value of n_estimators will change from 10 in version 0.20 to 100 in 0.22.\n",
      "  \"10 in version 0.20 to 100 in 0.22.\", FutureWarning)\n"
     ]
    },
    {
     "name": "stdout",
     "output_type": "stream",
     "text": [
      "Accuracy: 0.6043087971274685\n"
     ]
    }
   ],
   "source": [
    "my_model = RandomForestClassifier()\n",
    "my_model.fit(X_train, y_train)\n",
    "y_pred = my_model.predict(X_test)\n",
    "print(\"Accuracy:\",metrics.accuracy_score(y_test, y_pred))"
   ]
  },
  {
   "cell_type": "markdown",
   "metadata": {},
   "source": [
    "All in all we were able to take the shakespeare play and create some feature engineering models to help establish future ways to explain our data. If I had to add one more model, I would have done a way to analyze the playerline in the equation. I think adding that part can lead to an accuracy of over 90%"
   ]
  }
 ],
 "metadata": {
  "kernelspec": {
   "display_name": "Python 3",
   "language": "python",
   "name": "python3"
  },
  "language_info": {
   "codemirror_mode": {
    "name": "ipython",
    "version": 3
   },
   "file_extension": ".py",
   "mimetype": "text/x-python",
   "name": "python",
   "nbconvert_exporter": "python",
   "pygments_lexer": "ipython3",
   "version": "3.7.0"
  }
 },
 "nbformat": 4,
 "nbformat_minor": 2
}
